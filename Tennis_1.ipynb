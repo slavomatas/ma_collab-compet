{
 "cells": [
  {
   "cell_type": "markdown",
   "metadata": {},
   "source": [
    "# Collaboration and Competition\n",
    "\n",
    "---\n",
    "\n",
    "In this notebook, you will learn how to use the Unity ML-Agents environment for the third project of the [Deep Reinforcement Learning Nanodegree](https://www.udacity.com/course/deep-reinforcement-learning-nanodegree--nd893) program.\n",
    "\n",
    "### 1. Start the Environment\n",
    "\n",
    "We begin by importing the necessary packages.  If the code cell below returns an error, please revisit the project instructions to double-check that you have installed [Unity ML-Agents](https://github.com/Unity-Technologies/ml-agents/blob/master/docs/Installation.md) and [NumPy](http://www.numpy.org/)."
   ]
  },
  {
   "cell_type": "code",
   "execution_count": 1,
   "metadata": {
    "collapsed": true,
    "scrolled": true
   },
   "outputs": [],
   "source": [
    "from unityagents import UnityEnvironment\n",
    "import numpy as np"
   ]
  },
  {
   "cell_type": "markdown",
   "metadata": {},
   "source": [
    "Next, we will start the environment!  **_Before running the code cell below_**, change the `file_name` parameter to match the location of the Unity environment that you downloaded.\n",
    "\n",
    "- **Mac**: `\"path/to/Tennis.app\"`\n",
    "- **Windows** (x86): `\"path/to/Tennis_Windows_x86/Tennis.exe\"`\n",
    "- **Windows** (x86_64): `\"path/to/Tennis_Windows_x86_64/Tennis.exe\"`\n",
    "- **Linux** (x86): `\"path/to/Tennis_Linux/Tennis.x86\"`\n",
    "- **Linux** (x86_64): `\"path/to/Tennis_Linux/Tennis.x86_64\"`\n",
    "- **Linux** (x86, headless): `\"path/to/Tennis_Linux_NoVis/Tennis.x86\"`\n",
    "- **Linux** (x86_64, headless): `\"path/to/Tennis_Linux_NoVis/Tennis.x86_64\"`\n",
    "\n",
    "For instance, if you are using a Mac, then you downloaded `Tennis.app`.  If this file is in the same folder as the notebook, then the line below should appear as follows:\n",
    "```\n",
    "env = UnityEnvironment(file_name=\"Tennis.app\")\n",
    "```"
   ]
  },
  {
   "cell_type": "code",
   "execution_count": 2,
   "metadata": {
    "scrolled": true
   },
   "outputs": [
    {
     "name": "stderr",
     "output_type": "stream",
     "text": [
      "INFO:unityagents:\n",
      "'Academy' started successfully!\n",
      "Unity Academy name: Academy\n",
      "        Number of Brains: 1\n",
      "        Number of External Brains : 1\n",
      "        Lesson number : 0\n",
      "        Reset Parameters :\n",
      "\t\t\n",
      "Unity brain name: TennisBrain\n",
      "        Number of Visual Observations (per agent): 0\n",
      "        Vector Observation space type: continuous\n",
      "        Vector Observation space size (per agent): 8\n",
      "        Number of stacked Vector Observation: 3\n",
      "        Vector Action space type: continuous\n",
      "        Vector Action space size (per agent): 2\n",
      "        Vector Action descriptions: , \n"
     ]
    }
   ],
   "source": [
    "env = UnityEnvironment(file_name='/home/slavo/Dev/deep-rl-projects/ma_collab-compet/Tennis_Linux/Tennis.x86_64')"
   ]
  },
  {
   "cell_type": "markdown",
   "metadata": {},
   "source": [
    "Environments contain **_brains_** which are responsible for deciding the actions of their associated agents. Here we check for the first brain available, and set it as the default brain we will be controlling from Python."
   ]
  },
  {
   "cell_type": "code",
   "execution_count": 3,
   "metadata": {
    "collapsed": true,
    "scrolled": true
   },
   "outputs": [],
   "source": [
    "# get the default brain\n",
    "brain_name = env.brain_names[0]\n",
    "brain = env.brains[brain_name]"
   ]
  },
  {
   "cell_type": "markdown",
   "metadata": {},
   "source": [
    "### 2. Examine the State and Action Spaces\n",
    "\n",
    "In this environment, two agents control rackets to bounce a ball over a net. If an agent hits the ball over the net, it receives a reward of +0.1.  If an agent lets a ball hit the ground or hits the ball out of bounds, it receives a reward of -0.01.  Thus, the goal of each agent is to keep the ball in play.\n",
    "\n",
    "The observation space consists of 8 variables corresponding to the position and velocity of the ball and racket. Two continuous actions are available, corresponding to movement toward (or away from) the net, and jumping. \n",
    "\n",
    "Run the code cell below to print some information about the environment."
   ]
  },
  {
   "cell_type": "code",
   "execution_count": 4,
   "metadata": {
    "scrolled": true
   },
   "outputs": [
    {
     "name": "stdout",
     "output_type": "stream",
     "text": [
      "Number of agents: 2\n",
      "Size of each action: 2\n",
      "There are 2 agents. Each observes a state with length: 24\n",
      "The state for the first agent looks like: [ 0.          0.          0.          0.          0.          0.\n",
      "  0.          0.          0.          0.          0.          0.\n",
      "  0.          0.          0.          0.         -6.65278625 -1.5\n",
      " -0.          0.          6.83172083  6.         -0.          0.        ]\n"
     ]
    }
   ],
   "source": [
    "# reset the environment\n",
    "env_info = env.reset(train_mode=True)[brain_name]\n",
    "\n",
    "# number of agents \n",
    "num_agents = len(env_info.agents)\n",
    "print('Number of agents:', num_agents)\n",
    "\n",
    "# size of each action\n",
    "action_size = brain.vector_action_space_size\n",
    "print('Size of each action:', action_size)\n",
    "\n",
    "# examine the state space \n",
    "states = env_info.vector_observations\n",
    "state_size = states.shape[1]\n",
    "print('There are {} agents. Each observes a state with length: {}'.format(states.shape[0], state_size))\n",
    "print('The state for the first agent looks like:', states[0])"
   ]
  },
  {
   "cell_type": "markdown",
   "metadata": {},
   "source": [
    "### 3. Take Random Actions in the Environment\n",
    "\n",
    "In the next code cell, you will learn how to use the Python API to control the agents and receive feedback from the environment.\n",
    "\n",
    "Once this cell is executed, you will watch the agents' performance, if they select actions at random with each time step.  A window should pop up that allows you to observe the agents.\n",
    "\n",
    "Of course, as part of the project, you'll have to change the code so that the agents are able to use their experiences to gradually choose better actions when interacting with the environment!"
   ]
  },
  {
   "cell_type": "code",
   "execution_count": 5,
   "metadata": {
    "scrolled": true
   },
   "outputs": [
    {
     "name": "stdout",
     "output_type": "stream",
     "text": [
      "Score (max over agents) from episode 1: 0.0\n",
      "Score (max over agents) from episode 2: 0.0\n",
      "Score (max over agents) from episode 3: 0.0\n",
      "Score (max over agents) from episode 4: 0.0\n",
      "Score (max over agents) from episode 5: 0.0\n"
     ]
    }
   ],
   "source": [
    "for i in range(1, 6):                                      # play game for 5 episodes\n",
    "    env_info = env.reset(train_mode=False)[brain_name]     # reset the environment    \n",
    "    states = env_info.vector_observations                  # get the current state (for each agent)\n",
    "    scores = np.zeros(num_agents)                          # initialize the score (for each agent)\n",
    "    while True:\n",
    "        actions = np.random.randn(num_agents, action_size) # select an action (for each agent)\n",
    "        actions = np.clip(actions, -1, 1)                  # all actions between -1 and 1\n",
    "        env_info = env.step(actions)[brain_name]           # send all actions to tne environment\n",
    "        next_states = env_info.vector_observations         # get next state (for each agent)\n",
    "        rewards = env_info.rewards                         # get reward (for each agent)\n",
    "        dones = env_info.local_done                        # see if episode finished\n",
    "        scores += env_info.rewards                         # update the score (for each agent)\n",
    "        states = next_states                               # roll over states to next time step\n",
    "        if np.any(dones):                                  # exit loop if episode finished\n",
    "            break\n",
    "    print('Score (max over agents) from episode {}: {}'.format(i, np.max(scores)))"
   ]
  },
  {
   "cell_type": "markdown",
   "metadata": {},
   "source": [
    "When finished, you can close the environment."
   ]
  },
  {
   "cell_type": "code",
   "execution_count": 6,
   "metadata": {
    "collapsed": true,
    "scrolled": true
   },
   "outputs": [],
   "source": [
    "env.close()"
   ]
  },
  {
   "cell_type": "markdown",
   "metadata": {},
   "source": [
    "### 4. Multi Agent DDPG"
   ]
  },
  {
   "cell_type": "code",
   "execution_count": 1,
   "metadata": {
    "collapsed": true,
    "scrolled": true
   },
   "outputs": [],
   "source": [
    "import os\n",
    "import numpy as np\n",
    "import torch\n",
    "import matplotlib.pyplot as plt\n",
    "\n",
    "from collections import deque\n",
    "from agent import MADDPG\n",
    "from buffer import ReplayBuffer\n",
    "from utils import transpose_list, transpose_to_tensor\n",
    "from unityagents import UnityEnvironment\n",
    "\n",
    "BUFFER_SIZE = 100000  # replay buffer size\n",
    "BATCH_SIZE = 1024 # minibatch size"
   ]
  },
  {
   "cell_type": "code",
   "execution_count": 2,
   "metadata": {
    "collapsed": true,
    "scrolled": true
   },
   "outputs": [],
   "source": [
    "def seeding(seed=1):\n",
    "    np.random.seed(seed)\n",
    "    torch.manual_seed(seed)\n",
    "\n",
    "\n",
    "def train():\n",
    "    seeding()\n",
    "\n",
    "    os.environ[\"CUDA_VISIBLE_DEVICES\"] = \"1\"\n",
    "\n",
    "    print(\"GPU available: {}\".format(torch.cuda.is_available()))\n",
    "    print(\"GPU tensor test: {}\".format(torch.rand(3, 3).cuda()))\n",
    "\n",
    "    env = UnityEnvironment(file_name='/home/slavo/Dev/deep-rl-projects/ma_collab-compet/Tennis_Linux/Tennis.x86_64', no_graphics=True)\n",
    "\n",
    "    # get the default brain\n",
    "    brain_name = env.brain_names[0]\n",
    "    brain = env.brains[brain_name]\n",
    "\n",
    "    # reset the environment\n",
    "    env_info = env.reset(train_mode=True)[brain_name]\n",
    "\n",
    "    # number of agents in the environment\n",
    "    print('Number of agents:', len(env_info.agents))\n",
    "\n",
    "    # number of actions\n",
    "    action_size = brain.vector_action_space_size\n",
    "    print('Number of actions:', action_size)\n",
    "\n",
    "    # examine the state space\n",
    "    state = env_info.vector_observations[0]\n",
    "    print('States look like:', state)\n",
    "    state_size = len(state)\n",
    "    print('States have length:', state_size)\n",
    "\n",
    "    agents = len(env_info.agents)\n",
    "\n",
    "    # number of training episodes.\n",
    "    # change this to higher number to experiment. say 30000.\n",
    "    number_of_episodes = 30000\n",
    "    episode_length = 500\n",
    "\n",
    "    # how many steps before update\n",
    "    steps_per_update = 100\n",
    "\n",
    "    # amplitude of OU noise\n",
    "    # this slowly decreases to 0\n",
    "    noise = 1\n",
    "    noise_reduction = 0.9999\n",
    "\n",
    "    torch.set_num_threads(4)\n",
    "\n",
    "    buffer = ReplayBuffer(BUFFER_SIZE)\n",
    "\n",
    "    # initialize policy and critic\n",
    "    maddpg_agent = MADDPG(state_size, action_size, agents)\n",
    "\n",
    "    scores = []\n",
    "    scores_window = deque(maxlen=100)  # last 100 scores\n",
    "\n",
    "    actor_losses = []\n",
    "    critic_losses = []\n",
    "    for i in range(len(env_info.agents)):\n",
    "        actor_losses.append([])\n",
    "        critic_losses.append([])\n",
    "\n",
    "    for episode in range(0, number_of_episodes):\n",
    "\n",
    "        episode_rewards = []\n",
    "\n",
    "        env_info = env.reset(train_mode=True)[brain_name]\n",
    "        state = env_info.vector_observations\n",
    "        state_full = np.concatenate(state)\n",
    "\n",
    "        # for calculating rewards for this particular episode - addition of all time steps\n",
    "        for episode_t in range(episode_length+1):\n",
    "\n",
    "            actions = maddpg_agent.act(transpose_to_tensor(list(state)), noise=noise)\n",
    "            noise *= noise_reduction\n",
    "\n",
    "            actions = torch.stack(actions).view(-1).detach().cpu().numpy()\n",
    "            env_info = env.step(actions)[brain_name]\n",
    "\n",
    "            state_next = env_info.vector_observations  # get the next state\n",
    "            state_next_full = np.concatenate(state_next)\n",
    "            rewards = env_info.rewards  # get the reward\n",
    "            dones = env_info.local_done  # see if episode has finished\n",
    "\n",
    "            # add experiences to buffer\n",
    "            transition = (state, state_full, actions, rewards, state_next, state_next_full, dones)\n",
    "            buffer.push(transition)\n",
    "\n",
    "            episode_rewards.append(rewards)\n",
    "            state, state_full = state_next, state_next_full\n",
    "\n",
    "            # update once after every steps_per_update\n",
    "            if len(buffer) > BATCH_SIZE and (episode_t > 0) and (episode_t % steps_per_update == 0):\n",
    "                # print('maddpg update after {} steps'.format(episode_t))\n",
    "                for agent_idx in range(len(env_info.agents)):\n",
    "                    samples = buffer.sample(BATCH_SIZE)\n",
    "                    al, cl = maddpg_agent.update(samples, agent_idx)\n",
    "                    actor_losses[agent_idx].append(al)\n",
    "                    critic_losses[agent_idx].append(cl)\n",
    "                maddpg_agent.update_targets()  # soft update the target network towards the actual networks\n",
    "\n",
    "        # calculate agent episode rewards\n",
    "        agent_episode_rewards = []\n",
    "        for i in range(len(env_info.agents)):\n",
    "            agent_episode_reward = 0\n",
    "            for step in episode_rewards:\n",
    "                agent_episode_reward += step[i]\n",
    "            agent_episode_rewards.append(agent_episode_reward)\n",
    "\n",
    "        scores.append(np.max(agent_episode_rewards))\n",
    "        scores_window.append(np.max(agent_episode_rewards))\n",
    "\n",
    "        if episode > 10 and episode % 10 == 0:\n",
    "            print('\\rEpisode {}\\tAgent Rewards [{:.4f}\\t{:.4f}]\\tMax Reward {:.4f}'.format(episode,\n",
    "                                                                                           agent_episode_rewards[0],\n",
    "                                                                                           agent_episode_rewards[1],\n",
    "                                                                                           np.max(agent_episode_rewards)))\n",
    "\n",
    "            print('\\rEpisode {}\\tAverage Actor 1 Loss {:.6f}\\tAverage Critic 1 Loss {:.6f}'\n",
    "                  '\\tAverage Actor 2 Loss {:.6f}\\tAverage Critic 2 Loss {:.6f}'.format(episode,\n",
    "                                                                                       np.mean(actor_losses[0]),\n",
    "                                                                                       np.mean(critic_losses[0]),\n",
    "                                                                                       np.mean(actor_losses[1]),\n",
    "                                                                                       np.mean(critic_losses[1])))\n",
    "\n",
    "            print('\\rEpisode {}\\tAverage Score: {:.4f}'.format(episode, np.mean(scores_window)))\n",
    "\n",
    "            # reset losses\n",
    "            actor_losses = []\n",
    "            critic_losses = []\n",
    "            for i in range(len(env_info.agents)):\n",
    "                actor_losses.append([])\n",
    "                critic_losses.append([])\n",
    "\n",
    "        if episode > 100 and episode % 100 == 0:\n",
    "            print('\\rEpisode {}\\tAverage Score: {:.4f}'.format(episode, np.mean(scores_window)))\n",
    "\n",
    "        if episode > 100 and np.mean(scores_window) >= 0.5:\n",
    "            print('\\nEnvironment solved in {:d} episodes!\\tAverage Score: {:.4f}'.format(episode - 100,\n",
    "                                                                                         np.mean(scores_window)))\n",
    "            for i, save_agent in enumerate(maddpg_agent.agents):\n",
    "                torch.save(save_agent.actor.state_dict(), './checkpoints/checkpoint_actor_'+str(i)+'.pth')\n",
    "                torch.save(save_agent.critic.state_dict(), './checkpoints/checkpoint_critic_'+str(i)+'.pth')\n",
    "            break\n",
    "\n",
    "    env.close()\n",
    "    return scores"
   ]
  },
  {
   "cell_type": "code",
   "execution_count": 3,
   "metadata": {
    "scrolled": false
   },
   "outputs": [
    {
     "name": "stdout",
     "output_type": "stream",
     "text": [
      "GPU available: True\n",
      "GPU tensor test: tensor([[0.7576, 0.2793, 0.4031],\n",
      "        [0.7347, 0.0293, 0.7999],\n",
      "        [0.3971, 0.7544, 0.5695]], device='cuda:0')\n"
     ]
    },
    {
     "name": "stderr",
     "output_type": "stream",
     "text": [
      "INFO:unityagents:\n",
      "'Academy' started successfully!\n",
      "Unity Academy name: Academy\n",
      "        Number of Brains: 1\n",
      "        Number of External Brains : 1\n",
      "        Lesson number : 0\n",
      "        Reset Parameters :\n",
      "\t\t\n",
      "Unity brain name: TennisBrain\n",
      "        Number of Visual Observations (per agent): 0\n",
      "        Vector Observation space type: continuous\n",
      "        Vector Observation space size (per agent): 8\n",
      "        Number of stacked Vector Observation: 3\n",
      "        Vector Action space type: continuous\n",
      "        Vector Action space size (per agent): 2\n",
      "        Vector Action descriptions: , \n"
     ]
    },
    {
     "name": "stdout",
     "output_type": "stream",
     "text": [
      "Number of agents: 2\n",
      "Number of actions: 2\n",
      "States look like: [ 0.          0.          0.          0.          0.          0.\n",
      "  0.          0.          0.          0.          0.          0.\n",
      "  0.          0.          0.          0.         -6.65278625 -1.5\n",
      " -0.          0.          6.83172083  6.         -0.          0.        ]\n",
      "States have length: 24\n",
      "Episode 20\tAgent Rewards [-0.1400\t-0.2100]\tMax Reward -0.1400\n",
      "Episode 20\tAverage Actor 1 Loss -0.064682\tAverage Critic 1 Loss 0.635051\tAverage Actor 2 Loss -0.063351\tAverage Critic 2 Loss 0.632704\n",
      "Episode 20\tAverage Score: 0.1757\n",
      "Episode 30\tAgent Rewards [-0.1600\t-0.1900]\tMax Reward -0.1600\n",
      "Episode 30\tAverage Actor 1 Loss -0.054901\tAverage Critic 1 Loss 0.001095\tAverage Actor 2 Loss -0.048698\tAverage Critic 2 Loss 0.001345\n",
      "Episode 30\tAverage Score: 0.0697\n",
      "Episode 40\tAgent Rewards [0.5200\t-0.2000]\tMax Reward 0.5200\n",
      "Episode 40\tAverage Actor 1 Loss -0.026777\tAverage Critic 1 Loss 0.000750\tAverage Actor 2 Loss -0.021979\tAverage Critic 2 Loss 0.000682\n",
      "Episode 40\tAverage Score: 0.1107\n",
      "Episode 50\tAgent Rewards [0.7300\t-0.1900]\tMax Reward 0.7300\n",
      "Episode 50\tAverage Actor 1 Loss -0.013469\tAverage Critic 1 Loss 0.000517\tAverage Actor 2 Loss -0.006956\tAverage Critic 2 Loss 0.000653\n",
      "Episode 50\tAverage Score: 0.1927\n",
      "Episode 60\tAgent Rewards [0.7300\t-0.1800]\tMax Reward 0.7300\n",
      "Episode 60\tAverage Actor 1 Loss -0.004728\tAverage Critic 1 Loss 0.000423\tAverage Actor 2 Loss 0.003011\tAverage Critic 2 Loss 0.000651\n",
      "Episode 60\tAverage Score: 0.2538\n",
      "Episode 70\tAgent Rewards [0.6400\t-0.2000]\tMax Reward 0.6400\n",
      "Episode 70\tAverage Actor 1 Loss 0.003635\tAverage Critic 1 Loss 0.000476\tAverage Actor 2 Loss 0.011424\tAverage Critic 2 Loss 0.000656\n",
      "Episode 70\tAverage Score: 0.3185\n",
      "Episode 80\tAgent Rewards [0.7000\t-0.1400]\tMax Reward 0.7000\n",
      "Episode 80\tAverage Actor 1 Loss 0.008681\tAverage Critic 1 Loss 0.000576\tAverage Actor 2 Loss 0.016140\tAverage Critic 2 Loss 0.000585\n",
      "Episode 80\tAverage Score: 0.3377\n",
      "Episode 90\tAgent Rewards [0.2900\t-0.2000]\tMax Reward 0.2900\n",
      "Episode 90\tAverage Actor 1 Loss 0.012700\tAverage Critic 1 Loss 0.000458\tAverage Actor 2 Loss 0.019628\tAverage Critic 2 Loss 0.000583\n",
      "Episode 90\tAverage Score: 0.3471\n",
      "Episode 100\tAgent Rewards [0.0200\t-0.1400]\tMax Reward 0.0200\n",
      "Episode 100\tAverage Actor 1 Loss 0.016025\tAverage Critic 1 Loss 0.000466\tAverage Actor 2 Loss 0.023155\tAverage Critic 2 Loss 0.000574\n",
      "Episode 100\tAverage Score: 0.3220\n",
      "Episode 110\tAgent Rewards [0.4300\t-0.2200]\tMax Reward 0.4300\n",
      "Episode 110\tAverage Actor 1 Loss 0.019179\tAverage Critic 1 Loss 0.000516\tAverage Actor 2 Loss 0.025791\tAverage Critic 2 Loss 0.000571\n",
      "Episode 110\tAverage Score: 0.3154\n",
      "Episode 120\tAgent Rewards [0.5200\t-0.2100]\tMax Reward 0.5200\n",
      "Episode 120\tAverage Actor 1 Loss 0.021002\tAverage Critic 1 Loss 0.000490\tAverage Actor 2 Loss 0.027538\tAverage Critic 2 Loss 0.000462\n",
      "Episode 120\tAverage Score: 0.3475\n",
      "Episode 130\tAgent Rewards [0.6500\t-0.2200]\tMax Reward 0.6500\n",
      "Episode 130\tAverage Actor 1 Loss 0.022391\tAverage Critic 1 Loss 0.000365\tAverage Actor 2 Loss 0.028723\tAverage Critic 2 Loss 0.000323\n",
      "Episode 130\tAverage Score: 0.4072\n",
      "Episode 140\tAgent Rewards [0.2800\t-0.0500]\tMax Reward 0.2800\n",
      "Episode 140\tAverage Actor 1 Loss 0.023725\tAverage Critic 1 Loss 0.000353\tAverage Actor 2 Loss 0.030354\tAverage Critic 2 Loss 0.000261\n",
      "Episode 140\tAverage Score: 0.4369\n",
      "Episode 150\tAgent Rewards [0.4200\t-0.0900]\tMax Reward 0.4200\n",
      "Episode 150\tAverage Actor 1 Loss 0.025130\tAverage Critic 1 Loss 0.000317\tAverage Actor 2 Loss 0.031823\tAverage Critic 2 Loss 0.000236\n",
      "Episode 150\tAverage Score: 0.4313\n",
      "Episode 160\tAgent Rewards [0.5000\t-0.1800]\tMax Reward 0.5000\n",
      "Episode 160\tAverage Actor 1 Loss 0.026150\tAverage Critic 1 Loss 0.000374\tAverage Actor 2 Loss 0.033105\tAverage Critic 2 Loss 0.000249\n",
      "Episode 160\tAverage Score: 0.4290\n",
      "Episode 170\tAgent Rewards [0.3500\t-0.2200]\tMax Reward 0.3500\n",
      "Episode 170\tAverage Actor 1 Loss 0.026997\tAverage Critic 1 Loss 0.000338\tAverage Actor 2 Loss 0.034351\tAverage Critic 2 Loss 0.000217\n",
      "Episode 170\tAverage Score: 0.3939\n",
      "Episode 180\tAgent Rewards [0.5200\t-0.1900]\tMax Reward 0.5200\n",
      "Episode 180\tAverage Actor 1 Loss 0.027837\tAverage Critic 1 Loss 0.000376\tAverage Actor 2 Loss 0.035131\tAverage Critic 2 Loss 0.000328\n",
      "Episode 180\tAverage Score: 0.3928\n",
      "Episode 190\tAgent Rewards [0.6300\t-0.1800]\tMax Reward 0.6300\n",
      "Episode 190\tAverage Actor 1 Loss 0.027891\tAverage Critic 1 Loss 0.000352\tAverage Actor 2 Loss 0.035759\tAverage Critic 2 Loss 0.000184\n",
      "Episode 190\tAverage Score: 0.4037\n",
      "Episode 200\tAgent Rewards [0.2000\t-0.2100]\tMax Reward 0.2000\n",
      "Episode 200\tAverage Actor 1 Loss 0.028505\tAverage Critic 1 Loss 0.000388\tAverage Actor 2 Loss 0.036617\tAverage Critic 2 Loss 0.000180\n",
      "Episode 200\tAverage Score: 0.4388\n",
      "Episode 200\tAverage Score: 0.4388\n",
      "Episode 210\tAgent Rewards [0.2600\t-0.1600]\tMax Reward 0.2600\n",
      "Episode 210\tAverage Actor 1 Loss 0.028651\tAverage Critic 1 Loss 0.000252\tAverage Actor 2 Loss 0.037256\tAverage Critic 2 Loss 0.000146\n",
      "Episode 210\tAverage Score: 0.4546\n",
      "Episode 220\tAgent Rewards [0.5300\t-0.2100]\tMax Reward 0.5300\n",
      "Episode 220\tAverage Actor 1 Loss 0.029684\tAverage Critic 1 Loss 0.000214\tAverage Actor 2 Loss 0.038504\tAverage Critic 2 Loss 0.000111\n",
      "Episode 220\tAverage Score: 0.4314\n",
      "Episode 230\tAgent Rewards [0.7700\t-0.2200]\tMax Reward 0.7700\n",
      "Episode 230\tAverage Actor 1 Loss 0.029750\tAverage Critic 1 Loss 0.000244\tAverage Actor 2 Loss 0.039277\tAverage Critic 2 Loss 0.000100\n",
      "Episode 230\tAverage Score: 0.4354\n",
      "Episode 240\tAgent Rewards [1.0000\t-0.2400]\tMax Reward 1.0000\n",
      "Episode 240\tAverage Actor 1 Loss 0.030169\tAverage Critic 1 Loss 0.000189\tAverage Actor 2 Loss 0.039795\tAverage Critic 2 Loss 0.000085\n",
      "Episode 240\tAverage Score: 0.4742\n",
      "\n",
      "Environment solved in 144 episodes!\tAverage Score: 0.5020\n"
     ]
    }
   ],
   "source": [
    "scores = train()"
   ]
  },
  {
   "cell_type": "code",
   "execution_count": 4,
   "metadata": {
    "scrolled": true
   },
   "outputs": [
    {
     "data": {
      "image/png": "[encoded data removed]",
      "text/plain": [
       "<matplotlib.figure.Figure at 0x7fee988cf2b0>"
      ]
     },
     "metadata": {},
     "output_type": "display_data"
    }
   ],
   "source": [
    "# plot the scores\n",
    "fig = plt.figure()\n",
    "# ax = fig.add_subplot(111)\n",
    "plt.plot(np.arange(len(scores)), scores)\n",
    "plt.ylabel('Score')\n",
    "plt.xlabel('Episode #')\n",
    "plt.show()"
   ]
  },
  {
   "cell_type": "code",
   "execution_count": null,
   "metadata": {
    "collapsed": true
   },
   "outputs": [],
   "source": []
  }
 ],
 "metadata": {
  "kernelspec": {
   "display_name": "drlnd",
   "language": "python",
   "name": "drlnd"
  },
  "language_info": {
   "codemirror_mode": {
    "name": "ipython",
    "version": 3
   },
   "file_extension": ".py",
   "mimetype": "text/x-python",
   "name": "python",
   "nbconvert_exporter": "python",
   "pygments_lexer": "ipython3",
   "version": "3.6.6"
  }
 },
 "nbformat": 4,
 "nbformat_minor": 2
}
